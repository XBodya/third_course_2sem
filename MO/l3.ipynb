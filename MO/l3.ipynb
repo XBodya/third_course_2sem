{
 "cells": [
  {
   "cell_type": "code",
   "execution_count": 24,
   "metadata": {},
   "outputs": [],
   "source": [
    "def newton_method(start_x, func, deriv, eps=0.01):\n",
    "    if deriv(deriv(start_x, func), func) < 0:\n",
    "        return ((None, None), None)\n",
    "    k = 0\n",
    "    x = [start_x]\n",
    "    cur_deriv_value = deriv(start_x, func)\n",
    "    while abs(cur_deriv_value) > eps:\n",
    "        cur_x = x[-1]\n",
    "        x.append(cur_x - (deriv(cur_x, func) / deriv(deriv(cur_x, func), func)))\n",
    "        k += 1\n",
    "\n",
    "        cur_deriv_value = deriv(x[-1], func)\n",
    "    return ((x[-1], func(x[-1])), x)\n"
   ]
  },
  {
   "cell_type": "code",
   "execution_count": 25,
   "metadata": {},
   "outputs": [],
   "source": [
    "def standart_deriv2(x, func, h=0.01):\n",
    "    return (func(x + h) - func(x - h)) / (2 * h)\n",
    "\n",
    "def standart_deriv(x, func, h=0.01):\n",
    "    return (func(x + h) - func(x)) / h"
   ]
  },
  {
   "cell_type": "code",
   "execution_count": 26,
   "metadata": {},
   "outputs": [],
   "source": [
    "import numpy as np"
   ]
  },
  {
   "cell_type": "code",
   "execution_count": 27,
   "metadata": {},
   "outputs": [],
   "source": [
    "f = lambda x: x * np.atan(x) + (0.5 * np.log(1 + x * x))\n",
    "e = 1e-7\n",
    "x0 = 1"
   ]
  },
  {
   "cell_type": "code",
   "execution_count": 28,
   "metadata": {},
   "outputs": [
    {
     "ename": "KeyboardInterrupt",
     "evalue": "",
     "output_type": "error",
     "traceback": [
      "\u001b[1;31m---------------------------------------------------------------------------\u001b[0m",
      "\u001b[1;31mKeyboardInterrupt\u001b[0m                         Traceback (most recent call last)",
      "Cell \u001b[1;32mIn[28], line 1\u001b[0m\n\u001b[1;32m----> 1\u001b[0m \u001b[43mnewton_euler\u001b[49m\u001b[43m(\u001b[49m\u001b[43mx0\u001b[49m\u001b[43m,\u001b[49m\u001b[43m \u001b[49m\u001b[43mf\u001b[49m\u001b[43m,\u001b[49m\u001b[43m \u001b[49m\u001b[43mstandart_deriv\u001b[49m\u001b[43m,\u001b[49m\u001b[43m \u001b[49m\u001b[43me\u001b[49m\u001b[43m)\u001b[49m\n",
      "Cell \u001b[1;32mIn[24], line 9\u001b[0m, in \u001b[0;36mnewton_euler\u001b[1;34m(start_x, func, deriv, eps)\u001b[0m\n\u001b[0;32m      7\u001b[0m \u001b[38;5;28;01mwhile\u001b[39;00m \u001b[38;5;28mabs\u001b[39m(cur_deriv_value) \u001b[38;5;241m>\u001b[39m eps:\n\u001b[0;32m      8\u001b[0m     cur_x \u001b[38;5;241m=\u001b[39m x[\u001b[38;5;241m-\u001b[39m\u001b[38;5;241m1\u001b[39m]\n\u001b[1;32m----> 9\u001b[0m     x\u001b[38;5;241m.\u001b[39mappend(cur_x \u001b[38;5;241m-\u001b[39m (deriv(cur_x, func) \u001b[38;5;241m/\u001b[39m \u001b[43mderiv\u001b[49m\u001b[43m(\u001b[49m\u001b[43mderiv\u001b[49m\u001b[43m(\u001b[49m\u001b[43mcur_x\u001b[49m\u001b[43m,\u001b[49m\u001b[43m \u001b[49m\u001b[43mfunc\u001b[49m\u001b[43m)\u001b[49m\u001b[43m,\u001b[49m\u001b[43m \u001b[49m\u001b[43mfunc\u001b[49m\u001b[43m)\u001b[49m))\n\u001b[0;32m     10\u001b[0m     k \u001b[38;5;241m+\u001b[39m\u001b[38;5;241m=\u001b[39m \u001b[38;5;241m1\u001b[39m\n\u001b[0;32m     12\u001b[0m     cur_deriv_value \u001b[38;5;241m=\u001b[39m deriv(x[\u001b[38;5;241m-\u001b[39m\u001b[38;5;241m1\u001b[39m], func)\n",
      "Cell \u001b[1;32mIn[25], line 4\u001b[0m, in \u001b[0;36mstandart_deriv\u001b[1;34m(x, func, h)\u001b[0m\n\u001b[0;32m      1\u001b[0m \u001b[38;5;28;01mdef\u001b[39;00m \u001b[38;5;21mstandart_deriv2\u001b[39m(x, func, h\u001b[38;5;241m=\u001b[39m\u001b[38;5;241m0.01\u001b[39m):\n\u001b[0;32m      2\u001b[0m     \u001b[38;5;28;01mreturn\u001b[39;00m (func(x \u001b[38;5;241m+\u001b[39m h) \u001b[38;5;241m-\u001b[39m func(x \u001b[38;5;241m-\u001b[39m h)) \u001b[38;5;241m/\u001b[39m (\u001b[38;5;241m2\u001b[39m \u001b[38;5;241m*\u001b[39m h)\n\u001b[1;32m----> 4\u001b[0m \u001b[38;5;28;01mdef\u001b[39;00m \u001b[38;5;21mstandart_deriv\u001b[39m(x, func, h\u001b[38;5;241m=\u001b[39m\u001b[38;5;241m0.01\u001b[39m):\n\u001b[0;32m      5\u001b[0m     \u001b[38;5;28;01mreturn\u001b[39;00m (func(x \u001b[38;5;241m+\u001b[39m h) \u001b[38;5;241m-\u001b[39m func(x)) \u001b[38;5;241m/\u001b[39m h\n",
      "\u001b[1;31mKeyboardInterrupt\u001b[0m: "
     ]
    }
   ],
   "source": [
    "newton_euler(x0, f, standart_deriv, e)"
   ]
  },
  {
   "cell_type": "code",
   "execution_count": null,
   "metadata": {},
   "outputs": [],
   "source": []
  }
 ],
 "metadata": {
  "kernelspec": {
   "display_name": "Python 3",
   "language": "python",
   "name": "python3"
  },
  "language_info": {
   "codemirror_mode": {
    "name": "ipython",
    "version": 3
   },
   "file_extension": ".py",
   "mimetype": "text/x-python",
   "name": "python",
   "nbconvert_exporter": "python",
   "pygments_lexer": "ipython3",
   "version": "3.13.0"
  }
 },
 "nbformat": 4,
 "nbformat_minor": 2
}
