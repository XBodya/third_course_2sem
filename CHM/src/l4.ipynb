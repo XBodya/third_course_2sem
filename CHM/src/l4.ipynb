{
 "cells": [
  {
   "cell_type": "code",
   "execution_count": 3,
   "metadata": {},
   "outputs": [],
   "source": [
    "import numpy as np\n",
    "import matplotlib.pyplot as plt"
   ]
  },
  {
   "cell_type": "code",
   "execution_count": 4,
   "metadata": {},
   "outputs": [],
   "source": [
    "def approxe_cube_splains(func, N, bounds, border_cond=(0, 0)):\n",
    "    x = np.linspace(bounds[0], bounds[1], N)\n",
    "    print(len(x))\n",
    "    A = np.zeros((4*N, 4*N))\n",
    "    b = np.array([*map(func, x)])\n",
    "    \n",
    "    for i in range(N):\n",
    "        for j in range(N):\n",
    "            if i == j:\n",
    "                A[i][j * 4] = 1\n",
    "                A[i][j * 4 + 1] = x[i]\n",
    "                A[i][j * 4 + 2] = x[i] * x[i]\n",
    "                A[i][j * 4 + 3] = x[i] * x[i] * x[i]\n",
    "\n",
    "    # c = np.linalg.solve(A, b)\n",
    "    print(A.shape, b.shape)\n",
    "    print(A)\n",
    "    # print(c)"
   ]
  },
  {
   "cell_type": "code",
   "execution_count": 5,
   "metadata": {},
   "outputs": [
    {
     "name": "stdout",
     "output_type": "stream",
     "text": [
      "3\n",
      "(12, 12) (3,)\n",
      "[[1.    0.5   0.25  0.125 0.    0.    0.    0.    0.    0.    0.    0.   ]\n",
      " [0.    0.    0.    0.    1.    1.    1.    1.    0.    0.    0.    0.   ]\n",
      " [0.    0.    0.    0.    0.    0.    0.    0.    1.    1.5   2.25  3.375]\n",
      " [0.    0.    0.    0.    0.    0.    0.    0.    0.    0.    0.    0.   ]\n",
      " [0.    0.    0.    0.    0.    0.    0.    0.    0.    0.    0.    0.   ]\n",
      " [0.    0.    0.    0.    0.    0.    0.    0.    0.    0.    0.    0.   ]\n",
      " [0.    0.    0.    0.    0.    0.    0.    0.    0.    0.    0.    0.   ]\n",
      " [0.    0.    0.    0.    0.    0.    0.    0.    0.    0.    0.    0.   ]\n",
      " [0.    0.    0.    0.    0.    0.    0.    0.    0.    0.    0.    0.   ]\n",
      " [0.    0.    0.    0.    0.    0.    0.    0.    0.    0.    0.    0.   ]\n",
      " [0.    0.    0.    0.    0.    0.    0.    0.    0.    0.    0.    0.   ]\n",
      " [0.    0.    0.    0.    0.    0.    0.    0.    0.    0.    0.    0.   ]]\n"
     ]
    }
   ],
   "source": [
    "def main(func, N, bounds):\n",
    "    \"\"\"\n",
    "    bounds: [min, max]\n",
    "    \"\"\"\n",
    "    LEFT, RIGHT = 0.5, 1.5\n",
    "    N = 10\n",
    "    approxe_cube_splains(lambda x: x + 1, 3, (LEFT, RIGHT))    \n",
    "# end def\n",
    "\n",
    "main(None, None, None)"
   ]
  },
  {
   "cell_type": "code",
   "execution_count": null,
   "metadata": {},
   "outputs": [],
   "source": []
  },
  {
   "cell_type": "code",
   "execution_count": null,
   "metadata": {},
   "outputs": [],
   "source": []
  }
 ],
 "metadata": {
  "kernelspec": {
   "display_name": "Python 3",
   "language": "python",
   "name": "python3"
  },
  "language_info": {
   "codemirror_mode": {
    "name": "ipython",
    "version": 3
   },
   "file_extension": ".py",
   "mimetype": "text/x-python",
   "name": "python",
   "nbconvert_exporter": "python",
   "pygments_lexer": "ipython3",
   "version": "3.13.0"
  }
 },
 "nbformat": 4,
 "nbformat_minor": 2
}
